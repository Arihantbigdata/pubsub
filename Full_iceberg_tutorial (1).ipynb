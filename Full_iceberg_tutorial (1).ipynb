{
  "nbformat": 4,
  "nbformat_minor": 0,
  "metadata": {
    "colab": {
      "provenance": []
    },
    "kernelspec": {
      "name": "python3",
      "display_name": "Python 3"
    },
    "language_info": {
      "name": "python"
    }
  },
  "cells": [
    {
      "cell_type": "markdown",
      "source": [
        "### Install the iceberg jar and pip install pyspark"
      ],
      "metadata": {
        "id": "CzwiBeWwpJlo"
      }
    },
    {
      "cell_type": "code",
      "execution_count": 1,
      "metadata": {
        "colab": {
          "base_uri": "https://localhost:8080/"
        },
        "id": "BF-NjNuFpCFx",
        "outputId": "0f3d9237-b901-46be-fe32-1731c84361a9"
      },
      "outputs": [
        {
          "output_type": "stream",
          "name": "stdout",
          "text": [
            "Requirement already satisfied: pyspark in /usr/local/lib/python3.11/dist-packages (3.5.1)\n",
            "Requirement already satisfied: py4j==0.10.9.7 in /usr/local/lib/python3.11/dist-packages (from pyspark) (0.10.9.7)\n",
            "--2025-05-06 08:09:38--  https://repo1.maven.org/maven2/org/apache/iceberg/iceberg-spark-runtime-3.4_2.12/1.3.1/iceberg-spark-runtime-3.4_2.12-1.3.1.jar\n",
            "Resolving repo1.maven.org (repo1.maven.org)... 199.232.192.209, 199.232.196.209, 2a04:4e42:4c::209, ...\n",
            "Connecting to repo1.maven.org (repo1.maven.org)|199.232.192.209|:443... connected.\n",
            "HTTP request sent, awaiting response... 200 OK\n",
            "Length: 28536568 (27M) [application/java-archive]\n",
            "Saving to: ‘iceberg-spark-runtime-3.4_2.12-1.3.1.jar’\n",
            "\n",
            "iceberg-spark-runti 100%[===================>]  27.21M   151MB/s    in 0.2s    \n",
            "\n",
            "2025-05-06 08:09:39 (151 MB/s) - ‘iceberg-spark-runtime-3.4_2.12-1.3.1.jar’ saved [28536568/28536568]\n",
            "\n"
          ]
        }
      ],
      "source": [
        "!pip install pyspark\n",
        "!wget https://repo1.maven.org/maven2/org/apache/iceberg/iceberg-spark-runtime-3.4_2.12/1.3.1/iceberg-spark-runtime-3.4_2.12-1.3.1.jar\n"
      ]
    },
    {
      "cell_type": "markdown",
      "source": [
        "#### Check the folder where iceberg jar has been configured\n",
        "\n",
        "Initialize the spark"
      ],
      "metadata": {
        "id": "MaeakdB9pPTO"
      }
    },
    {
      "cell_type": "code",
      "source": [
        "from pyspark.sql import SparkSession\n",
        "\n",
        "spark = (SparkSession.builder\n",
        "         .appName(\"IcebergDemo\")\n",
        "         .config(\"spark.jars\", \"/content/iceberg-spark-runtime-3.4_2.12-1.3.1.jar\")\n",
        "         .config(\"spark.sql.catalog.iceberg\", \"org.apache.iceberg.spark.SparkCatalog\")\n",
        "         .config(\"spark.sql.catalog.iceberg.type\", \"hadoop\")\n",
        "         .config(\"spark.sql.catalog.iceberg.warehouse\", \"/content/iceberg_warehouse\")\n",
        "         .getOrCreate())\n"
      ],
      "metadata": {
        "id": "DkVNoqS8pHIv"
      },
      "execution_count": 3,
      "outputs": []
    },
    {
      "cell_type": "markdown",
      "source": [
        "### You are set to create the iceberg table and then check the files underligned"
      ],
      "metadata": {
        "id": "zOdlBubrqAv2"
      }
    },
    {
      "cell_type": "code",
      "source": [
        "spark.sql(\"\"\"\n",
        "    CREATE TABLE iceberg.tutorial.employee (\n",
        "        id INT,\n",
        "        name STRING,\n",
        "        department STRING,\n",
        "        salary INT\n",
        "    )\n",
        "    USING iceberg\n",
        "\"\"\")\n"
      ],
      "metadata": {
        "colab": {
          "base_uri": "https://localhost:8080/"
        },
        "id": "f308ybQtpt-i",
        "outputId": "bb50c0af-a334-4864-b63a-e5d7f10edf42"
      },
      "execution_count": 4,
      "outputs": [
        {
          "output_type": "execute_result",
          "data": {
            "text/plain": [
              "DataFrame[]"
            ]
          },
          "metadata": {},
          "execution_count": 4
        }
      ]
    },
    {
      "cell_type": "markdown",
      "source": [
        "### Here you will see only metadata folder as just DDL has been created and no data folder as the data isnt inserted so far"
      ],
      "metadata": {
        "id": "XfYT9vyFqb9G"
      }
    },
    {
      "cell_type": "code",
      "source": [
        "!ls -R /content/iceberg_warehouse/tutorial/employee/"
      ],
      "metadata": {
        "colab": {
          "base_uri": "https://localhost:8080/"
        },
        "id": "qPmuUGk5qIVg",
        "outputId": "67a6eb7e-f762-4c7e-b177-308500fb5646"
      },
      "execution_count": 6,
      "outputs": [
        {
          "output_type": "stream",
          "name": "stdout",
          "text": [
            "/content/iceberg_warehouse/tutorial/employee/:\n",
            "metadata\n",
            "\n",
            "/content/iceberg_warehouse/tutorial/employee/metadata:\n",
            "v1.metadata.json  version-hint.text\n"
          ]
        }
      ]
    },
    {
      "cell_type": "markdown",
      "source": [
        "### Lets insert some data"
      ],
      "metadata": {
        "id": "fBYXSUlHqtw8"
      }
    },
    {
      "cell_type": "code",
      "source": [
        "from pyspark.sql import Row\n",
        "\n",
        "data = [\n",
        "    Row(id=1, name=\"Alice\", department=\"HR\", salary=5000),\n",
        "    Row(id=2, name=\"Bob\", department=\"Engineering\", salary=7000),\n",
        "    Row(id=3, name=\"Charlie\", department=\"Marketing\", salary=6000)\n",
        "]\n",
        "\n",
        "df = spark.createDataFrame(data)\n",
        "df.writeTo(\"iceberg.tutorial.employee\").append()\n"
      ],
      "metadata": {
        "id": "gcZP_V9tqR_c"
      },
      "execution_count": 7,
      "outputs": []
    },
    {
      "cell_type": "code",
      "source": [
        "!ls -R /content/iceberg_warehouse/tutorial/employee/\n",
        "## In this step you will see the data folder also being created"
      ],
      "metadata": {
        "colab": {
          "base_uri": "https://localhost:8080/"
        },
        "id": "lrWwrLA4q1I9",
        "outputId": "322e591d-0d4a-42ed-ba9f-07214aacce49"
      },
      "execution_count": 8,
      "outputs": [
        {
          "output_type": "stream",
          "name": "stdout",
          "text": [
            "/content/iceberg_warehouse/tutorial/employee/:\n",
            "data  metadata\n",
            "\n",
            "/content/iceberg_warehouse/tutorial/employee/data:\n",
            "00000-0-01bce7bc-1a11-40e1-a6b6-2743ee1b3b60-00001.parquet\n",
            "00001-1-01bce7bc-1a11-40e1-a6b6-2743ee1b3b60-00001.parquet\n",
            "\n",
            "/content/iceberg_warehouse/tutorial/employee/metadata:\n",
            "d2c54ef6-ace4-46d9-982f-8a560fa04b02-m0.avro\n",
            "snap-6599416823092334606-1-d2c54ef6-ace4-46d9-982f-8a560fa04b02.avro\n",
            "v1.metadata.json\n",
            "v2.metadata.json\n",
            "version-hint.text\n"
          ]
        }
      ]
    },
    {
      "cell_type": "code",
      "source": [
        "# Update salary\n",
        "spark.sql(\"\"\"\n",
        "    UPDATE iceberg.tutorial.employee\n",
        "    SET salary = 8000\n",
        "    WHERE name = 'Bob'\n",
        "\"\"\")\n",
        "\n"
      ],
      "metadata": {
        "colab": {
          "base_uri": "https://localhost:8080/"
        },
        "id": "eGkedNSpq3kH",
        "outputId": "ecb5c781-5ef1-4ca2-c765-cb9e7c03d1d2"
      },
      "execution_count": 9,
      "outputs": [
        {
          "output_type": "execute_result",
          "data": {
            "text/plain": [
              "DataFrame[]"
            ]
          },
          "metadata": {},
          "execution_count": 9
        }
      ]
    },
    {
      "cell_type": "code",
      "source": [
        "!ls -R /content/iceberg_warehouse/tutorial/employee/\n",
        "\n",
        "### You will be seeing the metadata folder and data folder gets new files"
      ],
      "metadata": {
        "colab": {
          "base_uri": "https://localhost:8080/"
        },
        "id": "DpG2oJxQrIQB",
        "outputId": "ca8f7e80-4b91-4738-b438-d4128a3f7ee5"
      },
      "execution_count": 10,
      "outputs": [
        {
          "output_type": "stream",
          "name": "stdout",
          "text": [
            "/content/iceberg_warehouse/tutorial/employee/:\n",
            "data  metadata\n",
            "\n",
            "/content/iceberg_warehouse/tutorial/employee/data:\n",
            "00000-0-01bce7bc-1a11-40e1-a6b6-2743ee1b3b60-00001.parquet\n",
            "00000-5-49e0028a-9803-4673-bf5b-dd2adcdc3286-00001.parquet\n",
            "00001-1-01bce7bc-1a11-40e1-a6b6-2743ee1b3b60-00001.parquet\n",
            "\n",
            "/content/iceberg_warehouse/tutorial/employee/metadata:\n",
            "29074bd8-df94-46fb-8510-271ea6d8c46a-m0.avro\n",
            "29074bd8-df94-46fb-8510-271ea6d8c46a-m1.avro\n",
            "d2c54ef6-ace4-46d9-982f-8a560fa04b02-m0.avro\n",
            "snap-2953705924203826168-1-29074bd8-df94-46fb-8510-271ea6d8c46a.avro\n",
            "snap-6599416823092334606-1-d2c54ef6-ace4-46d9-982f-8a560fa04b02.avro\n",
            "v1.metadata.json\n",
            "v2.metadata.json\n",
            "v3.metadata.json\n",
            "version-hint.text\n"
          ]
        }
      ]
    },
    {
      "cell_type": "code",
      "source": [
        "# Delete record\n",
        "spark.sql(\"\"\"\n",
        "    DELETE FROM iceberg.tutorial.employee\n",
        "    WHERE name = 'Charlie'\n",
        "\"\"\")\n"
      ],
      "metadata": {
        "colab": {
          "base_uri": "https://localhost:8080/"
        },
        "id": "dpTw247yrE6f",
        "outputId": "497bccd1-ff7e-405b-f92f-2f9276e05080"
      },
      "execution_count": 11,
      "outputs": [
        {
          "output_type": "execute_result",
          "data": {
            "text/plain": [
              "DataFrame[]"
            ]
          },
          "metadata": {},
          "execution_count": 11
        }
      ]
    },
    {
      "cell_type": "markdown",
      "source": [
        "# 1. Time travel"
      ],
      "metadata": {
        "id": "HyyvsLElsa9T"
      }
    },
    {
      "cell_type": "code",
      "source": [
        "spark.sql(\"SELECT * FROM iceberg.tutorial.employee.snapshots\").show(truncate=False)\n"
      ],
      "metadata": {
        "colab": {
          "base_uri": "https://localhost:8080/"
        },
        "id": "YA92XCPbrSMo",
        "outputId": "06a5429c-5495-4c55-887c-92e02632b4c8"
      },
      "execution_count": 12,
      "outputs": [
        {
          "output_type": "stream",
          "name": "stdout",
          "text": [
            "+-----------------------+-------------------+-------------------+---------+--------------------------------------------------------------------------------------------------------------------------+---------------------------------------------------------------------------------------------------------------------------------------------------------------------------------------------------------------------------------------------------------------------------------------------------------------------------------------------------------------------------+\n",
            "|committed_at           |snapshot_id        |parent_id          |operation|manifest_list                                                                                                             |summary                                                                                                                                                                                                                                                                                                                                                                    |\n",
            "+-----------------------+-------------------+-------------------+---------+--------------------------------------------------------------------------------------------------------------------------+---------------------------------------------------------------------------------------------------------------------------------------------------------------------------------------------------------------------------------------------------------------------------------------------------------------------------------------------------------------------------+\n",
            "|2025-05-06 08:17:00.445|6599416823092334606|NULL               |append   |/content/iceberg_warehouse/tutorial/employee/metadata/snap-6599416823092334606-1-d2c54ef6-ace4-46d9-982f-8a560fa04b02.avro|{spark.app.id -> local-1746519244217, added-data-files -> 2, added-records -> 3, added-files-size -> 2345, changed-partition-count -> 1, total-records -> 3, total-files-size -> 2345, total-data-files -> 2, total-delete-files -> 0, total-position-deletes -> 0, total-equality-deletes -> 0}                                                                           |\n",
            "|2025-05-06 08:18:08.738|2953705924203826168|6599416823092334606|overwrite|/content/iceberg_warehouse/tutorial/employee/metadata/snap-2953705924203826168-1-29074bd8-df94-46fb-8510-271ea6d8c46a.avro|{spark.app.id -> local-1746519244217, added-data-files -> 1, deleted-data-files -> 1, added-records -> 2, deleted-records -> 2, added-files-size -> 1196, removed-files-size -> 1196, changed-partition-count -> 1, total-records -> 3, total-files-size -> 2345, total-data-files -> 2, total-delete-files -> 0, total-position-deletes -> 0, total-equality-deletes -> 0}|\n",
            "|2025-05-06 08:18:54.275|3117810971636079597|2953705924203826168|overwrite|/content/iceberg_warehouse/tutorial/employee/metadata/snap-3117810971636079597-1-8d8b521a-cf6f-43f1-83a0-47ad206e78a2.avro|{spark.app.id -> local-1746519244217, added-data-files -> 1, deleted-data-files -> 1, added-records -> 1, deleted-records -> 2, added-files-size -> 1198, removed-files-size -> 1196, changed-partition-count -> 1, total-records -> 2, total-files-size -> 2347, total-data-files -> 2, total-delete-files -> 0, total-position-deletes -> 0, total-equality-deletes -> 0}|\n",
            "+-----------------------+-------------------+-------------------+---------+--------------------------------------------------------------------------------------------------------------------------+---------------------------------------------------------------------------------------------------------------------------------------------------------------------------------------------------------------------------------------------------------------------------------------------------------------------------------------------------------------------------+\n",
            "\n"
          ]
        }
      ]
    },
    {
      "cell_type": "code",
      "source": [
        "spark.sql(\"select * from iceberg.tutorial.employee\").show()"
      ],
      "metadata": {
        "colab": {
          "base_uri": "https://localhost:8080/"
        },
        "id": "75mxAWuGrYbO",
        "outputId": "41364907-78c1-4fd7-fd95-d97767ec1575"
      },
      "execution_count": 14,
      "outputs": [
        {
          "output_type": "stream",
          "name": "stdout",
          "text": [
            "+---+-----+-----------+------+\n",
            "| id| name| department|salary|\n",
            "+---+-----+-----------+------+\n",
            "|  2|  Bob|Engineering|  8000|\n",
            "|  1|Alice|         HR|  5000|\n",
            "+---+-----+-----------+------+\n",
            "\n"
          ]
        }
      ]
    },
    {
      "cell_type": "code",
      "source": [
        "spark.sql(\"\"\"\n",
        "    SELECT * FROM iceberg.tutorial.employee\n",
        "    VERSION AS OF 2953705924203826168\n",
        "\"\"\").show()\n",
        "\n"
      ],
      "metadata": {
        "colab": {
          "base_uri": "https://localhost:8080/"
        },
        "id": "37JNh1b9rkCc",
        "outputId": "af3a13a1-080d-484c-fe64-d5bf1d522355"
      },
      "execution_count": 16,
      "outputs": [
        {
          "output_type": "stream",
          "name": "stdout",
          "text": [
            "+---+-------+-----------+------+\n",
            "| id|   name| department|salary|\n",
            "+---+-------+-----------+------+\n",
            "|  2|    Bob|Engineering|  8000|\n",
            "|  3|Charlie|  Marketing|  6000|\n",
            "|  1|  Alice|         HR|  5000|\n",
            "+---+-------+-----------+------+\n",
            "\n"
          ]
        }
      ]
    },
    {
      "cell_type": "code",
      "source": [],
      "metadata": {
        "id": "m8JhtF_5r5Ve"
      },
      "execution_count": null,
      "outputs": []
    },
    {
      "cell_type": "markdown",
      "source": [
        "# 2. Schema Evolution (ADD Column)"
      ],
      "metadata": {
        "id": "YxgKX98AsheM"
      }
    },
    {
      "cell_type": "code",
      "source": [
        "# Add a new column 'age'\n",
        "spark.sql(\"\"\"\n",
        "    ALTER TABLE iceberg.tutorial.employee ADD COLUMN age INT\n",
        "\"\"\")\n",
        "\n"
      ],
      "metadata": {
        "colab": {
          "base_uri": "https://localhost:8080/"
        },
        "id": "3NxAZz16tuiy",
        "outputId": "1755440d-2a45-49eb-e7eb-f12cf3a46385"
      },
      "execution_count": 17,
      "outputs": [
        {
          "output_type": "execute_result",
          "data": {
            "text/plain": [
              "DataFrame[]"
            ]
          },
          "metadata": {},
          "execution_count": 17
        }
      ]
    },
    {
      "cell_type": "code",
      "source": [
        "!ls -R /content/iceberg_warehouse/tutorial/employee/"
      ],
      "metadata": {
        "colab": {
          "base_uri": "https://localhost:8080/"
        },
        "id": "MKMChntGuAuK",
        "outputId": "65e7c6da-c249-4820-f365-131f89964ebd"
      },
      "execution_count": 18,
      "outputs": [
        {
          "output_type": "stream",
          "name": "stdout",
          "text": [
            "/content/iceberg_warehouse/tutorial/employee/:\n",
            "data  metadata\n",
            "\n",
            "/content/iceberg_warehouse/tutorial/employee/data:\n",
            "00000-0-01bce7bc-1a11-40e1-a6b6-2743ee1b3b60-00001.parquet\n",
            "00000-5-49e0028a-9803-4673-bf5b-dd2adcdc3286-00001.parquet\n",
            "00000-9-83dfe384-2001-48bd-b447-9fcac6266030-00001.parquet\n",
            "00001-1-01bce7bc-1a11-40e1-a6b6-2743ee1b3b60-00001.parquet\n",
            "\n",
            "/content/iceberg_warehouse/tutorial/employee/metadata:\n",
            "29074bd8-df94-46fb-8510-271ea6d8c46a-m0.avro\n",
            "29074bd8-df94-46fb-8510-271ea6d8c46a-m1.avro\n",
            "8d8b521a-cf6f-43f1-83a0-47ad206e78a2-m0.avro\n",
            "8d8b521a-cf6f-43f1-83a0-47ad206e78a2-m1.avro\n",
            "d2c54ef6-ace4-46d9-982f-8a560fa04b02-m0.avro\n",
            "snap-2953705924203826168-1-29074bd8-df94-46fb-8510-271ea6d8c46a.avro\n",
            "snap-3117810971636079597-1-8d8b521a-cf6f-43f1-83a0-47ad206e78a2.avro\n",
            "snap-6599416823092334606-1-d2c54ef6-ace4-46d9-982f-8a560fa04b02.avro\n",
            "v1.metadata.json\n",
            "v2.metadata.json\n",
            "v3.metadata.json\n",
            "v4.metadata.json\n",
            "v5.metadata.json\n",
            "version-hint.text\n"
          ]
        }
      ]
    },
    {
      "cell_type": "code",
      "source": [
        "# Insert data with new schema\n",
        "spark.sql(\"\"\"\n",
        "    INSERT INTO iceberg.tutorial.employee VALUES (4, 'David', 'Finance', 6500, 35)\n",
        "\"\"\")\n"
      ],
      "metadata": {
        "colab": {
          "base_uri": "https://localhost:8080/"
        },
        "id": "2iBjKoHptyVe",
        "outputId": "cd707d16-1515-4e0d-93a6-b1da77e04def"
      },
      "execution_count": 19,
      "outputs": [
        {
          "output_type": "execute_result",
          "data": {
            "text/plain": [
              "DataFrame[]"
            ]
          },
          "metadata": {},
          "execution_count": 19
        }
      ]
    },
    {
      "cell_type": "code",
      "source": [
        "!ls -R /content/iceberg_warehouse/tutorial/employee/"
      ],
      "metadata": {
        "colab": {
          "base_uri": "https://localhost:8080/"
        },
        "id": "TSOG9M5VuEJP",
        "outputId": "d74116e2-7be8-4ad5-e60b-281fab3c6c93"
      },
      "execution_count": 20,
      "outputs": [
        {
          "output_type": "stream",
          "name": "stdout",
          "text": [
            "/content/iceberg_warehouse/tutorial/employee/:\n",
            "data  metadata\n",
            "\n",
            "/content/iceberg_warehouse/tutorial/employee/data:\n",
            "00000-0-01bce7bc-1a11-40e1-a6b6-2743ee1b3b60-00001.parquet\n",
            "00000-14-aab62923-345f-46b1-9450-0ac701c881f9-00001.parquet\n",
            "00000-5-49e0028a-9803-4673-bf5b-dd2adcdc3286-00001.parquet\n",
            "00000-9-83dfe384-2001-48bd-b447-9fcac6266030-00001.parquet\n",
            "00001-1-01bce7bc-1a11-40e1-a6b6-2743ee1b3b60-00001.parquet\n",
            "\n",
            "/content/iceberg_warehouse/tutorial/employee/metadata:\n",
            "29074bd8-df94-46fb-8510-271ea6d8c46a-m0.avro\n",
            "29074bd8-df94-46fb-8510-271ea6d8c46a-m1.avro\n",
            "4063661f-fa39-4b56-ada5-2a537dc3be14-m0.avro\n",
            "8d8b521a-cf6f-43f1-83a0-47ad206e78a2-m0.avro\n",
            "8d8b521a-cf6f-43f1-83a0-47ad206e78a2-m1.avro\n",
            "d2c54ef6-ace4-46d9-982f-8a560fa04b02-m0.avro\n",
            "snap-2953705924203826168-1-29074bd8-df94-46fb-8510-271ea6d8c46a.avro\n",
            "snap-3117810971636079597-1-8d8b521a-cf6f-43f1-83a0-47ad206e78a2.avro\n",
            "snap-6021783865302088004-1-4063661f-fa39-4b56-ada5-2a537dc3be14.avro\n",
            "snap-6599416823092334606-1-d2c54ef6-ace4-46d9-982f-8a560fa04b02.avro\n",
            "v1.metadata.json\n",
            "v2.metadata.json\n",
            "v3.metadata.json\n",
            "v4.metadata.json\n",
            "v5.metadata.json\n",
            "v6.metadata.json\n",
            "version-hint.text\n"
          ]
        }
      ]
    },
    {
      "cell_type": "code",
      "source": [
        "spark.sql(\"select * from iceberg.tutorial.employee\").show()\n",
        "# this shows how schema evolution is being taken care, the only new value is inserted\n",
        "# and the rest all will be null, no more analysys exceptions"
      ],
      "metadata": {
        "colab": {
          "base_uri": "https://localhost:8080/"
        },
        "id": "lzyUWK7euFcJ",
        "outputId": "9b2cb1f4-f53e-4757-c647-1e63f61e8da3"
      },
      "execution_count": 22,
      "outputs": [
        {
          "output_type": "stream",
          "name": "stdout",
          "text": [
            "+---+-----+-----------+------+----+\n",
            "| id| name| department|salary| age|\n",
            "+---+-----+-----------+------+----+\n",
            "|  4|David|    Finance|  6500|  35|\n",
            "|  2|  Bob|Engineering|  8000|NULL|\n",
            "|  1|Alice|         HR|  5000|NULL|\n",
            "+---+-----+-----------+------+----+\n",
            "\n"
          ]
        }
      ]
    },
    {
      "cell_type": "code",
      "source": [],
      "metadata": {
        "id": "7-CW88a0uNdV"
      },
      "execution_count": null,
      "outputs": []
    },
    {
      "cell_type": "markdown",
      "source": [
        "# 3: Partitioning (Optional but Important)\n",
        "\n"
      ],
      "metadata": {
        "id": "mb7RONGzubhV"
      }
    },
    {
      "cell_type": "code",
      "source": [
        "# Create partitioned table by department\n",
        "spark.sql(\"\"\"\n",
        "    CREATE TABLE iceberg.tutorial.employee_partitioned (\n",
        "        id INT,\n",
        "        name STRING,\n",
        "        department STRING,\n",
        "        salary INT\n",
        "    )\n",
        "    USING iceberg\n",
        "    PARTITIONED BY (department)\n",
        "\"\"\")\n",
        "\n"
      ],
      "metadata": {
        "colab": {
          "base_uri": "https://localhost:8080/"
        },
        "id": "RfWQGEQTudsX",
        "outputId": "4c28a3a9-6deb-4994-b62d-b234f6124c96"
      },
      "execution_count": 24,
      "outputs": [
        {
          "output_type": "execute_result",
          "data": {
            "text/plain": [
              "DataFrame[]"
            ]
          },
          "metadata": {},
          "execution_count": 24
        }
      ]
    },
    {
      "cell_type": "code",
      "source": [
        "df.writeTo(\"iceberg.tutorial.employee_partitioned\").append()"
      ],
      "metadata": {
        "id": "3YDeDYCeutho"
      },
      "execution_count": 25,
      "outputs": []
    },
    {
      "cell_type": "code",
      "source": [
        "!ls -R /content/iceberg_warehouse/tutorial/employee_partitioned/"
      ],
      "metadata": {
        "colab": {
          "base_uri": "https://localhost:8080/"
        },
        "id": "Iwxz_A0LuuSK",
        "outputId": "4fe928a7-491d-42aa-bff2-4edd4f891918"
      },
      "execution_count": 26,
      "outputs": [
        {
          "output_type": "stream",
          "name": "stdout",
          "text": [
            "/content/iceberg_warehouse/tutorial/employee_partitioned/:\n",
            "data  metadata\n",
            "\n",
            "/content/iceberg_warehouse/tutorial/employee_partitioned/data:\n",
            "'department=Engineering'  'department=HR'  'department=Marketing'\n",
            "\n",
            "'/content/iceberg_warehouse/tutorial/employee_partitioned/data/department=Engineering':\n",
            "00000-21-41577e70-1b1e-4506-8f5a-7a7bab16e6fd-00001.parquet\n",
            "\n",
            "'/content/iceberg_warehouse/tutorial/employee_partitioned/data/department=HR':\n",
            "00000-21-41577e70-1b1e-4506-8f5a-7a7bab16e6fd-00002.parquet\n",
            "\n",
            "'/content/iceberg_warehouse/tutorial/employee_partitioned/data/department=Marketing':\n",
            "00000-21-41577e70-1b1e-4506-8f5a-7a7bab16e6fd-00003.parquet\n",
            "\n",
            "/content/iceberg_warehouse/tutorial/employee_partitioned/metadata:\n",
            "844ef08e-ffea-47ec-afdb-36e68b99bc2a-m0.avro\n",
            "snap-4818441535154196469-1-844ef08e-ffea-47ec-afdb-36e68b99bc2a.avro\n",
            "v1.metadata.json\n",
            "v2.metadata.json\n",
            "version-hint.text\n"
          ]
        }
      ]
    },
    {
      "cell_type": "code",
      "source": [],
      "metadata": {
        "id": "OEqNzivlu6Ua"
      },
      "execution_count": null,
      "outputs": []
    },
    {
      "cell_type": "markdown",
      "source": [
        "# 4: ACID Transactions (UPDATE/DELETE)"
      ],
      "metadata": {
        "id": "8C3uTX1ku_Bc"
      }
    },
    {
      "cell_type": "code",
      "source": [
        "# Update salary\n",
        "spark.sql(\"\"\"\n",
        "    select * from iceberg.tutorial.employee\n",
        "\"\"\").show()\n"
      ],
      "metadata": {
        "colab": {
          "base_uri": "https://localhost:8080/"
        },
        "id": "Gs3nb2DTvNx9",
        "outputId": "24a84bab-2354-4d9b-b5c4-4303517c8390"
      },
      "execution_count": 27,
      "outputs": [
        {
          "output_type": "stream",
          "name": "stdout",
          "text": [
            "+---+-----+-----------+------+----+\n",
            "| id| name| department|salary| age|\n",
            "+---+-----+-----------+------+----+\n",
            "|  4|David|    Finance|  6500|  35|\n",
            "|  2|  Bob|Engineering|  8000|NULL|\n",
            "|  1|Alice|         HR|  5000|NULL|\n",
            "+---+-----+-----------+------+----+\n",
            "\n"
          ]
        }
      ]
    },
    {
      "cell_type": "markdown",
      "source": [
        "# 5: Merge (UPSERT)"
      ],
      "metadata": {
        "id": "P06RbxKWvzyD"
      }
    },
    {
      "cell_type": "code",
      "source": [
        "# Perform a MERGE (UPSERT)\n",
        "spark.sql(\"\"\"\n",
        "    MERGE INTO iceberg.tutorial.employee t\n",
        "    USING (SELECT 2 AS id, 'Bob' AS name, 'Engineering' AS department, 9000 AS salary, 30 AS age) s\n",
        "    ON t.id = s.id\n",
        "    WHEN MATCHED THEN UPDATE SET *\n",
        "    WHEN NOT MATCHED THEN INSERT *\n",
        "\"\"\")\n"
      ],
      "metadata": {
        "colab": {
          "base_uri": "https://localhost:8080/"
        },
        "id": "EH5GwhOsvlqJ",
        "outputId": "a2660be0-63ea-4987-e9cb-559a9b444028"
      },
      "execution_count": 31,
      "outputs": [
        {
          "output_type": "execute_result",
          "data": {
            "text/plain": [
              "DataFrame[]"
            ]
          },
          "metadata": {},
          "execution_count": 31
        }
      ]
    },
    {
      "cell_type": "code",
      "source": [
        "# Update salary\n",
        "spark.sql(\"\"\"\n",
        "    select * from iceberg.tutorial.employee\n",
        "\"\"\").show()\n"
      ],
      "metadata": {
        "colab": {
          "base_uri": "https://localhost:8080/"
        },
        "id": "4w1H_hfIv-oQ",
        "outputId": "62f909ab-dcf0-4847-9fca-9220e3453a89"
      },
      "execution_count": 32,
      "outputs": [
        {
          "output_type": "stream",
          "name": "stdout",
          "text": [
            "+---+-----+-----------+------+----+\n",
            "| id| name| department|salary| age|\n",
            "+---+-----+-----------+------+----+\n",
            "|  2|  Bob|Engineering|  9000|  30|\n",
            "|  1|Alice|         HR|  5000|NULL|\n",
            "|  4|David|    Finance|  6500|  35|\n",
            "+---+-----+-----------+------+----+\n",
            "\n"
          ]
        }
      ]
    },
    {
      "cell_type": "markdown",
      "source": [
        "# 6: Table History and Rollback"
      ],
      "metadata": {
        "id": "QP3fbYiJwFhN"
      }
    },
    {
      "cell_type": "code",
      "source": [
        "# Show history\n",
        "spark.sql(\"SELECT * FROM iceberg.tutorial.employee.history\").show(truncate=False)\n",
        "\n"
      ],
      "metadata": {
        "colab": {
          "base_uri": "https://localhost:8080/"
        },
        "id": "wq8sNfMdwAmW",
        "outputId": "e0308a8b-0d12-4779-b68a-a00757f1c290"
      },
      "execution_count": 33,
      "outputs": [
        {
          "output_type": "stream",
          "name": "stdout",
          "text": [
            "+-----------------------+-------------------+-------------------+-------------------+\n",
            "|made_current_at        |snapshot_id        |parent_id          |is_current_ancestor|\n",
            "+-----------------------+-------------------+-------------------+-------------------+\n",
            "|2025-05-06 08:17:00.445|6599416823092334606|NULL               |true               |\n",
            "|2025-05-06 08:18:08.738|2953705924203826168|6599416823092334606|true               |\n",
            "|2025-05-06 08:18:54.275|3117810971636079597|2953705924203826168|true               |\n",
            "|2025-05-06 08:31:01.993|6021783865302088004|3117810971636079597|true               |\n",
            "|2025-05-06 08:36:37.835|2895367200101812802|6021783865302088004|true               |\n",
            "|2025-05-06 08:37:30.937|4742875239200770694|2895367200101812802|true               |\n",
            "|2025-05-06 08:39:25.993|5752421767766051467|4742875239200770694|true               |\n",
            "+-----------------------+-------------------+-------------------+-------------------+\n",
            "\n"
          ]
        }
      ]
    },
    {
      "cell_type": "code",
      "source": [],
      "metadata": {
        "id": "vVd-FoJEwUq4"
      },
      "execution_count": null,
      "outputs": []
    }
  ]
}